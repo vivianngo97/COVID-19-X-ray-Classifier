{
  "nbformat": 4,
  "nbformat_minor": 0,
  "metadata": {
    "colab": {
      "name": "Data Collection and Preprocessing.ipynb",
      "provenance": [],
      "collapsed_sections": []
    },
    "kernelspec": {
      "name": "python3",
      "display_name": "Python 3"
    },
    "accelerator": "GPU"
  },
  "cells": [
    {
      "cell_type": "code",
      "metadata": {
        "id": "pqgudN2gco4r",
        "colab_type": "code",
        "colab": {
          "base_uri": "https://localhost:8080/",
          "height": 134
        },
        "outputId": "5fe975aa-64d7-43ed-9bd7-20de326c3233"
      },
      "source": [
        "# get the data in as usual \n",
        "!pip install python-resize-image\n",
        "from google.colab import drive\n",
        "import urllib.request\n",
        "import os.path\n",
        "from PIL import Image\n",
        "import shutil, os\n",
        "import zipfile\n",
        "import matplotlib.pyplot as plt\n",
        "import numpy as np\n",
        "import pandas as pd\n",
        "import pprint\n",
        "import matplotlib.pyplot as plt\n",
        "import seaborn as sns\n",
        "import glob"
      ],
      "execution_count": null,
      "outputs": [
        {
          "output_type": "stream",
          "text": [
            "Requirement already satisfied: python-resize-image in /usr/local/lib/python3.6/dist-packages (1.1.19)\n",
            "Requirement already satisfied: Pillow>=5.1.0 in /usr/local/lib/python3.6/dist-packages (from python-resize-image) (7.0.0)\n",
            "Requirement already satisfied: requests>=2.19.1 in /usr/local/lib/python3.6/dist-packages (from python-resize-image) (2.23.0)\n",
            "Requirement already satisfied: chardet<4,>=3.0.2 in /usr/local/lib/python3.6/dist-packages (from requests>=2.19.1->python-resize-image) (3.0.4)\n",
            "Requirement already satisfied: urllib3!=1.25.0,!=1.25.1,<1.26,>=1.21.1 in /usr/local/lib/python3.6/dist-packages (from requests>=2.19.1->python-resize-image) (1.24.3)\n",
            "Requirement already satisfied: idna<3,>=2.5 in /usr/local/lib/python3.6/dist-packages (from requests>=2.19.1->python-resize-image) (2.10)\n",
            "Requirement already satisfied: certifi>=2017.4.17 in /usr/local/lib/python3.6/dist-packages (from requests>=2.19.1->python-resize-image) (2020.6.20)\n"
          ],
          "name": "stdout"
        }
      ]
    },
    {
      "cell_type": "code",
      "metadata": {
        "id": "FnGseLdncu8d",
        "colab_type": "code",
        "colab": {
          "base_uri": "https://localhost:8080/",
          "height": 138
        },
        "outputId": "a3df2c2e-79d4-4759-d466-f97d06662345"
      },
      "source": [
        "from google.colab import drive\n",
        "drive.mount('/content/gdrive', force_remount= True)\n",
        " # %cd /content/gdrive/My\\ Drive/ # need to mount to Google Drive\n",
        "os.chdir(\"/content/gdrive/My Drive/Colab Notebooks/covid-chestxray-dataset-master/COVID19_images\") ### for my testing\n",
        "!pwd # should see /content/gdrive/My Drive"
      ],
      "execution_count": null,
      "outputs": [
        {
          "output_type": "stream",
          "text": [
            "Go to this URL in a browser: https://accounts.google.com/o/oauth2/auth?client_id=947318989803-6bn6qk8qdgf4n4g3pfee6491hc0brc4i.apps.googleusercontent.com&redirect_uri=urn%3aietf%3awg%3aoauth%3a2.0%3aoob&response_type=code&scope=email%20https%3a%2f%2fwww.googleapis.com%2fauth%2fdocs.test%20https%3a%2f%2fwww.googleapis.com%2fauth%2fdrive%20https%3a%2f%2fwww.googleapis.com%2fauth%2fdrive.photos.readonly%20https%3a%2f%2fwww.googleapis.com%2fauth%2fpeopleapi.readonly\n",
            "\n",
            "Enter your authorization code:\n",
            "··········\n",
            "Mounted at /content/gdrive\n",
            "/content/gdrive/My Drive/Colab Notebooks/covid-chestxray-dataset-master/COVID19_images\n"
          ],
          "name": "stdout"
        }
      ]
    },
    {
      "cell_type": "markdown",
      "metadata": {
        "id": "tuozlfPmJJDQ",
        "colab_type": "text"
      },
      "source": [
        "## FETCHING THE DATA AND MOVING INTO FOLDERS"
      ]
    },
    {
      "cell_type": "code",
      "metadata": {
        "id": "ACn1xNk4JTTO",
        "colab_type": "code",
        "colab": {}
      },
      "source": [
        "#This function is for downloading images from a link and unzipping them to a specfied directory\n",
        "def download_images(working_directory, url):\n",
        "\n",
        "  #Working directory is where you want to files to be downloaded\n",
        "  working_directory = working_directory\n",
        "  #URL is the download link. **NOTE THAT THIS DOESN'T WORK WITH KAGGLE**\n",
        "  url = url\n",
        "  \n",
        "  #Set the current working directory\n",
        "  try:\n",
        "    os.chdir(working_directory)\n",
        "  except Exception as e:\n",
        "    print(e)\n",
        "\n",
        "  remote = urllib.request.urlopen(url)  # read remote file\n",
        "  data = remote.read()  # read from remote file\n",
        "  remote.close()  # close urllib request\n",
        "  local = open('download.zip', 'wb')  # write binary to local file\n",
        "  local.write(data)\n",
        "  local.close()  # close file\n",
        "\n",
        "  #Try to unzip the files\n",
        "  try:\n",
        "    with zipfile.ZipFile(\"download.zip\", 'r') as zip_ref:\n",
        "      zip_ref.extractall()\n",
        "    print(\"Unzipping files successful!\")\n",
        "\n",
        "  except Exception as e:\n",
        "    print(e)\n",
        "\n",
        "#Example use:\n",
        "#working_directory = \"/content/gdrive/My Drive/Colab Notebooks/scraped\"\n",
        "#url = \"http://images.cocodataset.org/zips/val2017.zip\"\n",
        "#download_images(working_directory, url)"
      ],
      "execution_count": null,
      "outputs": []
    },
    {
      "cell_type": "code",
      "metadata": {
        "id": "9GRLgKlbJfF9",
        "colab_type": "code",
        "colab": {}
      },
      "source": [
        "#This function is for searching the given directory and all subfolders for images and \n",
        "#placing them into one of three folders (healthy, bacterial, or covid) in the specified directory. \n",
        "#If the folders don't already exist, then they will be created.\n",
        "#Image directory is the parent directory containing the images (can also be in the subfolders)\n",
        "#Working directory is where you want the folders to be created and images to be moved\n",
        "#Status is the type of image contained the the image_directory folder. Must be one type.\n",
        "\n",
        "def move_images(image_directory, working_directory, status):\n",
        "  image_directory = image_directory\n",
        "  working_directory = working_directory\n",
        "  status = status\n",
        "  os.chdir(working_directory)\n",
        "\n",
        "  dirName = 'images_directory' #### changed this \n",
        "\n",
        "  try:\n",
        "      # Create target Directory\n",
        "      os.mkdir(dirName)\n",
        "      print(\"\\nDirectory\" , dirName ,  \"created\") \n",
        "  except FileExistsError:\n",
        "      print(\"\\nDirectory\" , dirName ,  \"already exists\")\n",
        "\n",
        "  folders = \"healthy covid bacterial\"\n",
        "  folders = folders.split()\n",
        "  folders = [dirName + \"/\" + s for s in folders]\n",
        "\n",
        "  for names in folders:\n",
        "    try:\n",
        "        # Create target Directory\n",
        "        os.mkdir(names)\n",
        "        print(\"Directory\" , names ,  \"created \") \n",
        "    except FileExistsError:\n",
        "        print(\"Directory\" , names ,  \"already exists\")\n",
        "\n",
        "  names = [os.path.join(name)\n",
        "             for root, dirs, files in os.walk(image_directory)\n",
        "             for name in files\n",
        "             if name.endswith((\".jpg\", \".jpeg\", \".gif\", \".png\", \".tif\", \".bmp\"))]\n",
        "\n",
        "  roots = [os.path.join(root)\n",
        "              for root, dirs, files in os.walk(image_directory)\n",
        "              for name in files\n",
        "              if name.endswith((\".jpg\", \".jpeg\", \".gif\", \".png\", \".tif\", \".bmp\"))]\n",
        "\n",
        "  filepath = os.path.join(working_directory, \"images_directory\", status)\n",
        "\n",
        "  for root, name in zip(roots, names):\n",
        "    if os.path.exists(filepath + name):\n",
        "      pass\n",
        "    else:\n",
        "      shutil.copy(os.path.join(root, name), filepath)\n",
        "\n",
        "#Example use:\n",
        "#image_directory = \"/content/gdrive/My Drive/Colab Notebooks/scraped/covid-chestxray-dataset-master/images\"\n",
        "#working_directory = \"/content/gdrive/My Drive/Colab Notebooks/scraped\"\n",
        "#status = \"bacterial\"\n",
        "\n",
        "#move_images(image_directory, working_directory, status)"
      ],
      "execution_count": null,
      "outputs": []
    },
    {
      "cell_type": "code",
      "metadata": {
        "id": "e6d9pIXRJ9WP",
        "colab_type": "code",
        "colab": {}
      },
      "source": [
        "#This function is for cropping images from the center\n",
        "def crop_center(pil_img, crop_width, crop_height):\n",
        "    img_width, img_height = pil_img.size\n",
        "    return pil_img.crop(((img_width - crop_width) // 2,\n",
        "                         (img_height - crop_height) // 2,\n",
        "                         (img_width + crop_width) // 2,\n",
        "                         (img_height + crop_height) // 2))"
      ],
      "execution_count": null,
      "outputs": []
    },
    {
      "cell_type": "code",
      "metadata": {
        "id": "7zHgjK3wKMLO",
        "colab_type": "code",
        "colab": {}
      },
      "source": [
        "#This function will take process all images in the specified folder, including subfolders. \n",
        "#We can play with the resizing parameters\n",
        "def image_preprocessing(image_directory):\n",
        "\n",
        "  imagefiles = [os.path.join(root, name)\n",
        "             for root, dirs, files in os.walk(image_directory)\n",
        "             for name in files\n",
        "             if name.endswith((\".jpg\", \".jpeg\", \".gif\", \".png\", \".tif\", \".bmp\"))]\n",
        "\n",
        "  filepath = os.path.join(working_directory, \"images_directory\", status)\n",
        "\n",
        "  for item in imagefiles:\n",
        "      im = Image.open(item)\n",
        "      f, e = os.path.splitext(item)\n",
        "      im = im.resize((1500,1500), Image.ANTIALIAS)\n",
        "      im = crop_center(im, 1200, 1200)\n",
        "      im = im.resize((224,224), Image.ANTIALIAS)\n",
        "      im.save(item, format = \"PNG\", quality=90)\n",
        "\n",
        "#image_directory = \"/content/gdrive/My Drive/Colab Notebooks/scraped/images_directory/healthy\"\n",
        "#image_preprocessing(image_directory)"
      ],
      "execution_count": null,
      "outputs": []
    },
    {
      "cell_type": "code",
      "metadata": {
        "id": "t8C8ZK1OcOTg",
        "colab_type": "code",
        "colab": {
          "base_uri": "https://localhost:8080/",
          "height": 34
        },
        "outputId": "bc2f26b5-b275-488d-897c-c5d4e0ed9c05"
      },
      "source": [
        "working_directory = \"/content/gdrive/My Drive/Colab Notebooks/scraped\"\n",
        "url = \"https://github.com/ieee8023/covid-chestxray-dataset/archive/master.zip\"\n",
        "download_images(working_directory, url)"
      ],
      "execution_count": null,
      "outputs": [
        {
          "output_type": "stream",
          "text": [
            "Unzipping files successful!\n"
          ],
          "name": "stdout"
        }
      ]
    },
    {
      "cell_type": "code",
      "metadata": {
        "id": "a-o1Cz_YeDqm",
        "colab_type": "code",
        "colab": {
          "base_uri": "https://localhost:8080/",
          "height": 101
        },
        "outputId": "65964919-c00a-407d-b513-87bd70c224d9"
      },
      "source": [
        "image_directory = \"/content/gdrive/My Drive/Colab Notebooks/scraped/covid-chestxray-dataset-master/images\"\n",
        "working_directory = \"/content/gdrive/My Drive/Colab Notebooks/scraped\"\n",
        "status = \"covid\"\n",
        "\n",
        "move_images(image_directory, working_directory, status)"
      ],
      "execution_count": null,
      "outputs": [
        {
          "output_type": "stream",
          "text": [
            "\n",
            "Directory images_directory already exists\n",
            "Directory images_directory/healthy already exists\n",
            "Directory images_directory/covid already exists\n",
            "Directory images_directory/bacterial already exists\n"
          ],
          "name": "stdout"
        }
      ]
    },
    {
      "cell_type": "code",
      "metadata": {
        "id": "cKYyWH3wf45n",
        "colab_type": "code",
        "colab": {}
      },
      "source": [
        "image_directory = \"/content/gdrive/My Drive/Colab Notebooks/scraped/images_directory\"\n",
        "image_preprocessing(image_directory)"
      ],
      "execution_count": null,
      "outputs": []
    }
  ]
}